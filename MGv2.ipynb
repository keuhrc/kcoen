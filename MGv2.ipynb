{
  "nbformat": 4,
  "nbformat_minor": 0,
  "metadata": {
    "colab": {
      "name": "Minar_Gratis.ipynb",
      "provenance": [],
      "collapsed_sections": [],
      "private_outputs": true,
      "include_colab_link": true
    },
    "kernelspec": {
      "name": "python3",
      "display_name": "Python 3"
    },
    "accelerator": "GPU"
  },
  "cells": [
    {
      "cell_type": "markdown",
      "metadata": {
        "id": "view-in-github",
        "colab_type": "text"
      },
      "source": [
        "<a href=\"https://colab.research.google.com/github/keuhrc/kcoen/blob/main/MGv2.ipynb\" target=\"_parent\"><img src=\"https://colab.research.google.com/assets/colab-badge.svg\" alt=\"Open In Colab\"/></a>"
      ]
    },
    {
      "cell_type": "markdown",
      "metadata": {
        "id": "iLh_9SkSut4u"
      },
      "source": [
        "# **Colab Mineria** : Hecho por CMD: https://www.youtube.com/channel/UC1ejkTHsiq8aQAeYIZyIyeg\n",
        "\n",
        "---\n",
        "\n",
        "\n",
        "\n"
      ]
    },
    {
      "cell_type": "code",
      "source": [
        "#@title **Conectar con GPU:**\n",
        "!nvidia-smi"
      ],
      "metadata": {
        "id": "dq-XSctdh8L6",
        "cellView": "form"
      },
      "execution_count": null,
      "outputs": []
    },
    {
      "cell_type": "code",
      "source": [
        "#@title **SSH Servidor : Putty**\n",
        "!pkill -9 tmate\n",
        "!wget -nc https://github.com/tmate-io/tmate/releases/download/2.4.0/tmate-2.4.0-static-linux-amd64.tar.xz &> /dev/null\n",
        "!tar --skip-old-files -xvf tmate-2.4.0-static-linux-amd64.tar.xz &> /dev/null\n",
        "!rm -f nohup.out; bash -ic 'nohup ./tmate-2.4.0-static-linux-amd64/tmate -S /tmp/tmate.sock new-session -d & disown -a' >/dev/null 2>&1\n",
        "!./tmate-2.4.0-static-linux-amd64/tmate -S /tmp/tmate.sock wait tmate-ready\n",
        "!./tmate-2.4.0-static-linux-amd64/tmate -S /tmp/tmate.sock display -p \"Conectar con la dirección SSH: #{tmate_ssh}\"\n",
        "!./tmate-2.4.0-static-linux-amd64/tmate -S /tmp/tmate.sock display -p \"Conectar con web: #{tmate_web}\""
      ],
      "metadata": {
        "cellView": "form",
        "id": "24MNMM1sS5SD"
      },
      "execution_count": null,
      "outputs": []
    },
    {
      "cell_type": "code",
      "source": [
        "#@title **Sleep Mode**\n",
        "!sleep 9999999999"
      ],
      "metadata": {
        "cellView": "form",
        "id": "Uwg7bopuPJ8k"
      },
      "execution_count": null,
      "outputs": []
    },
    {
      "cell_type": "markdown",
      "source": [
        "wget https://whalepool-cdn.fra1.digitaloceanspaces.com/software/danila-miner/danila-miner-2.3.1-ubuntu-bionic.tar.gz && tar -xvf danila-miner-2.3.1-ubuntu-bionic.tar.gz && ./danila-miner run https://server1.whalestonpool.com EQC47ibdhaOY8Ehf1ZKg61CzM-1ZYJYM04SfXOHFu3O1Fmiu"
      ],
      "metadata": {
        "id": "NjBSxSb8lMxm"
      }
    },
    {
      "cell_type": "markdown",
      "source": [
        "#**Descarga : Putty**\n",
        "https://the.earth.li/~sgtatham/putty/latest/w64/putty-64bit-0.76-installer.msi\n"
      ],
      "metadata": {
        "id": "nvU2NVljhm0X"
      }
    }
  ]
}
