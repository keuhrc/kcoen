{
  "nbformat": 4,
  "nbformat_minor": 0,
  "metadata": {
    "colab": {
      "name": "Colab Mineria en automatico 2.0.ipynb",
      "provenance": [],
      "collapsed_sections": [],
      "include_colab_link": true
    },
    "kernelspec": {
      "name": "python3",
      "display_name": "Python 3"
    },
    "language_info": {
      "name": "python"
    },
    "accelerator": "GPU"
  },
  "cells": [
    {
      "cell_type": "markdown",
      "metadata": {
        "id": "view-in-github",
        "colab_type": "text"
      },
      "source": [
        "<a href=\"https://colab.research.google.com/github/keuhrc/kcoen/blob/main/Colab_automatico.ipynb\" target=\"_parent\"><img src=\"https://colab.research.google.com/assets/colab-badge.svg\" alt=\"Open In Colab\"/></a>"
      ]
    },
    {
      "cell_type": "markdown",
      "metadata": {
        "id": "wWhnI2bYadCZ"
      },
      "source": [
        "\n",
        "# **Colab Mineria en automatico 2.0** : Hecho por CMD:\n",
        "\n",
        "Este script es solo para fines de prueba y aprendizaje. Destaco que Google Colab está hecho para ser utilizado por estudiantes, programadores y entusiastas.\n",
        "\n",
        "Creado por: CMD\n",
        "Visita mi canal:\n",
        "\n",
        "https://www.youtube.com/channel/UC1ejkTHsiq8aQAeYIZyIyeg\n",
        "\n",
        "\n"
      ]
    },
    {
      "cell_type": "code",
      "metadata": {
        "id": "VC4D7vArdX5R",
        "cellView": "form"
      },
      "source": [
        "#@title **1 Cargar GPU test**\n",
        "!setterm -foreground green\n",
        "from IPython.display import HTML\n",
        "from subprocess import getoutput\n",
        "s = getoutput('nvidia-smi')\n",
        "if 'K80' in s:\n",
        "  gpu = 'Tesla K80'\n",
        "elif 'T4' in s:\n",
        "  gpu = 'Tesla T4'\n",
        "elif 'P100' in s:\n",
        "  gpu = 'Tesla P100'\n",
        "display(HTML(f\"<h2>{gpu}</h2>\"))"
      ],
      "execution_count": null,
      "outputs": []
    },
    {
      "cell_type": "code",
      "metadata": {
        "id": "SOtDyg-FgTh8",
        "cellView": "form"
      },
      "source": [
        "#@title **2. Script Instalación del VPS**\n",
        "#@markdown  La instalacion demora de 5 a 6 minutos\n",
        "\n",
        "!setterm -foreground blue\n",
        "import os,sys,time\n",
        "import os\n",
        "import subprocess\n",
        "\n",
        "print('Cargando...')\n",
        "print(\"Se está creando el usuario...\")\n",
        " \n",
        "os.system(f\"useradd -m cmd\")\n",
        "os.system(f\"adduser cmd sudo\")\n",
        "os.system(f\"echo 'cmd:root' | sudo chpasswd\")\n",
        "os.system(\"sed -i 's/\\/bin\\/sh/\\/bin\\/bash/g' /etc/passwd\")\n",
        "for i in range(101):\n",
        "        time.sleep(0.1)\n",
        "        sys.stdout.write(\"\\rCargando secuencia de comandos: %d%%\" % i)\n",
        "        while (i > 101):\n",
        "            os.system('cls')\n",
        "        sys.stdout.flush()\n",
        "print(\"\\nUsuario creado con éxito!\")\n",
        "\n",
        "\n",
        "\n",
        "#@markdown  Abrir el la web http://remotedesktop.google.com/headless\n",
        "\n",
        "#@markdown  Copie el comando Debian Linux para autenticar VPS y péguelo en CRP.\n",
        "\n",
        "CRP = \"\" #@param {type:\"string\"}\n",
        " \n",
        "\n",
        "class CRD:\n",
        "    def __init__(self):\n",
        "        os.system(\"apt update\")\n",
        "        self.installCRD()\n",
        "        self.installDesktopEnvironment()\n",
        "        self.installGoogleChorme()\n",
        "        self.finish()\n",
        " \n",
        "    @staticmethod\n",
        "    def installCRD():\n",
        "        print(\"Instalación escritorio remoto de Chrome\")\n",
        "        subprocess.run(['wget', 'https://dl.google.com/linux/direct/chrome-remote-desktop_current_amd64.deb'], stdout=subprocess.PIPE)\n",
        "        subprocess.run(['dpkg', '--install', 'chrome-remote-desktop_current_amd64.deb'], stdout=subprocess.PIPE)\n",
        "        subprocess.run(['apt', 'install', '--assume-yes', '--fix-broken'], stdout=subprocess.PIPE)\n",
        " \n",
        "    @staticmethod\n",
        "    def installDesktopEnvironment():\n",
        "        print(\"Instalando entorno de escritorio\")\n",
        "        os.system(\"export DEBIAN_FRONTEND=noninteractive\")\n",
        "        os.system(\"apt install --assume-yes xfce4 desktop-base xfce4-terminal\")\n",
        "        os.system(\"bash -c 'echo \\\"exec /etc/X11/Xsession /usr/bin/xfce4-session\\\" > /etc/chrome-remote-desktop-session'\")\n",
        "        os.system(\"apt remove --assume-yes gnome-terminal\")\n",
        "        os.system(\"apt install --assume-yes xscreensaver\")\n",
        "        os.system(\"systemctl disable lightdm.service\")\n",
        " \n",
        "    @staticmethod\n",
        "    def installGoogleChorme():\n",
        "        print(\"Instalación de Google Chrome\")\n",
        "        subprocess.run([\"wget\", \"https://dl.google.com/linux/direct/google-chrome-stable_current_amd64.deb\"], stdout=subprocess.PIPE)\n",
        "        subprocess.run([\"dpkg\", \"--install\", \"google-chrome-stable_current_amd64.deb\"], stdout=subprocess.PIPE)\n",
        "        subprocess.run(['apt', 'install', '--assume-yes', '--fix-broken'], stdout=subprocess.PIPE)\n",
        " \n",
        "    @staticmethod\n",
        "    def finish():\n",
        "        print(\"Finalizando\")\n",
        "        os.system(f\"adduser cmd chrome-remote-desktop\")\n",
        "        command = f\"{CRP} --pin=123456\"\n",
        "        os.system(f\"su - cmd -c '{command}'\")\n",
        "        os.system(\"service chrome-remote-desktop start\")\n",
        "        print(\"VPS creado con éxito.\")\n",
        "    print(\"---------------------------------------------------------------\")\n",
        "    print(\"usuario y contraseña de ubuntu:\")\n",
        "    print(\"Usuario Root: cmd\")\n",
        "    print(\"Contraseña: root\")\n",
        "    print(\"---------------------------------------------------------------\")\n",
        "    print(\"Pin acceso a Google Remote: 123456\")\n",
        " \n",
        "try:\n",
        "  \n",
        "        if CRP == \"\":\n",
        "            print(\"Introduzca el código de autenticación del enlace proporcionado.\")\n",
        "        elif len(str(123456)) < 6:\n",
        "            print(\"Ingrese un PIN con 6 dígitos o más.\")\n",
        "        else:\n",
        "            CRD()\n",
        "except NameError as e:\n",
        "    print(\"¡usuario no encontrado!\")\n",
        "    print(\"Ejecute el script de creación de usuarios\")\n"
      ],
      "execution_count": null,
      "outputs": []
    },
    {
      "cell_type": "code",
      "metadata": {
        "id": "-mVNI_PPjB-a",
        "cellView": "form"
      },
      "source": [
        "#@title **SSH Servidor : Web**\n",
        "!pkill -9 tmate\n",
        "!wget -nc https://github.com/tmate-io/tmate/releases/download/2.4.0/tmate-2.4.0-static-linux-amd64.tar.xz &> /dev/null\n",
        "!tar --skip-old-files -xvf tmate-2.4.0-static-linux-amd64.tar.xz &> /dev/null\n",
        "!rm -f nohup.out; bash -ic 'nohup ./tmate-2.4.0-static-linux-amd64/tmate -S /tmp/tmate.sock new-session -d & disown -a' >/dev/null 2>&1\n",
        "!./tmate-2.4.0-static-linux-amd64/tmate -S /tmp/tmate.sock wait tmate-ready\n",
        "!./tmate-2.4.0-static-linux-amd64/tmate -S /tmp/tmate.sock display -p \"Conectar con web: #{tmate_web}\""
      ],
      "execution_count": null,
      "outputs": []
    },
    {
      "cell_type": "markdown",
      "source": [
        "Comando para minar no olvide de cambiar: EQCpZm8-KPvz-A0gRPj8aOkUxeFazztI5ubIYd3Zw51HVuyx por su wallet\n",
        "\n",
        "\n",
        "wget https://whalepool-cdn.fra1.digitaloceanspaces.com/software/danila-miner/danila-miner-2.3.1-ubuntu-bionic.tar.gz && tar -xvf danila-miner-2.3.1-ubuntu-bionic.tar.gz && ./danila-miner run https://server1.whalestonpool.com EQCpZm8-KPvz-A0gRPj8aOkUxeFazztI5ubIYd3Zw51HVuyx"
      ],
      "metadata": {
        "id": "ebYdpTsp7dhK"
      }
    },
    {
      "cell_type": "code",
      "source": [
        "#@title **Modo Silencio**\n",
        "!sleep 9999999999"
      ],
      "metadata": {
        "cellView": "form",
        "id": "08bo6aS88RuR"
      },
      "execution_count": null,
      "outputs": []
    }
  ]
}